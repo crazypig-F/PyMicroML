{
 "cells": [
  {
   "cell_type": "code",
   "id": "initial_id",
   "metadata": {
    "collapsed": true,
    "ExecuteTime": {
     "end_time": "2025-04-17T11:07:29.532467Z",
     "start_time": "2025-04-17T11:07:26.947232Z"
    }
   },
   "source": [
    "# Import required libraries\n",
    "from src.ml import RegressorFramework\n",
    "from src.feature import get_shap, get_vips\n",
    "import pandas as pd\n",
    "import numpy as np\n",
    "from sklearn.utils import shuffle\n",
    "from sklearn.cross_decomposition import PLSRegression\n",
    "from sklearn.ensemble import RandomForestRegressor, BaggingRegressor, AdaBoostRegressor, ExtraTreesRegressor\n",
    "from xgboost import XGBRegressor\n",
    "import seaborn as sns\n",
    "import matplotlib.pyplot as plt"
   ],
   "outputs": [],
   "execution_count": 1
  },
  {
   "metadata": {
    "ExecuteTime": {
     "end_time": "2025-04-17T11:07:29.609407Z",
     "start_time": "2025-04-17T11:07:29.534462Z"
    }
   },
   "cell_type": "code",
   "source": [
    "# Load ASV and amino acid data\n",
    "asv_path = \"./data/ASVs.csv\"\n",
    "amino_acid_path = \"./data/AAs.csv\"\n",
    "asv = pd.read_csv(asv_path, index_col=0)\n",
    "amino_acid = pd.read_csv(amino_acid_path, index_col=0)"
   ],
   "id": "9eeed01723637e4c",
   "outputs": [],
   "execution_count": 2
  },
  {
   "metadata": {
    "ExecuteTime": {
     "end_time": "2025-04-17T11:07:29.624761Z",
     "start_time": "2025-04-17T11:07:29.613274Z"
    }
   },
   "cell_type": "code",
   "source": [
    "# Selected ASVs for network analysis\n",
    "asv_name_list = [\n",
    "    'B_ASV_98229', 'B_ASV_95119', 'B_ASV_83738', 'B_ASV_79875', 'B_ASV_78240',\n",
    "    'B_ASV_77896', 'B_ASV_70040', 'B_ASV_68290', 'B_ASV_59582', 'B_ASV_48893',\n",
    "    'B_ASV_38043', 'B_ASV_35282', 'B_ASV_19290', 'B_ASV_17952', 'B_ASV_15625',\n",
    "    'B_ASV_143173', 'B_ASV_142812', 'B_ASV_140470', 'B_ASV_137520', 'B_ASV_135906',\n",
    "    'B_ASV_131779', 'B_ASV_129877', 'B_ASV_125122', 'B_ASV_102823', 'B_ASV_100340'\n",
    "]"
   ],
   "id": "ab723e69705a6a07",
   "outputs": [],
   "execution_count": 3
  },
  {
   "metadata": {
    "ExecuteTime": {
     "end_time": "2025-04-17T11:07:29.640192Z",
     "start_time": "2025-04-17T11:07:29.626955Z"
    }
   },
   "cell_type": "code",
   "source": [
    "# Set up feature importance sorting models\n",
    "models = {\n",
    "    \"PLS Regression\": PLSRegression(),\n",
    "    \"XGBoost\": XGBRegressor(random_state=42),\n",
    "    \"Random Forest\": RandomForestRegressor(random_state=42)\n",
    "}"
   ],
   "id": "770f5d57cdea1c9e",
   "outputs": [],
   "execution_count": 4
  },
  {
   "metadata": {
    "ExecuteTime": {
     "end_time": "2025-04-17T11:07:33.664180Z",
     "start_time": "2025-04-17T11:07:29.641801Z"
    }
   },
   "cell_type": "code",
   "source": [
    "# Compute feature importance scores for each amino acid using different models\n",
    "aa_feature = {}\n",
    "\n",
    "for aa in amino_acid.columns:\n",
    "    feature_df = pd.DataFrame()\n",
    "\n",
    "    for name, model in models.items():\n",
    "        X = asv.loc[:, asv.columns.isin(asv_name_list)]\n",
    "        y = amino_acid[aa]\n",
    "        X_shuffled, y_shuffled = shuffle(X, y, random_state=42)\n",
    "\n",
    "        reg = RegressorFramework(model)\n",
    "        reg.fit(X_shuffled, y_shuffled)\n",
    "\n",
    "        # Extract feature importance using appropriate method\n",
    "        if name == \"PLS Regression\":\n",
    "            df_sorted = get_vips(X_shuffled, reg.model)\n",
    "        elif name == \"XGBoost\":\n",
    "            df_sorted = get_shap(X_shuffled, reg.model)\n",
    "        elif name == \"Random Forest\":\n",
    "            feature = reg.model.feature_importances_\n",
    "            df_sorted = pd.DataFrame({'Scores': feature}, index=X_shuffled.columns)\n",
    "            df_sorted.sort_values(by='Scores', ascending=False, inplace=True)\n",
    "        else:\n",
    "            raise Exception(f\"Unsupported model type: {name}\")\n",
    "\n",
    "        # Normalize scores\n",
    "        scores = df_sorted['Scores']\n",
    "        normalized = (scores - np.min(scores)) / (np.max(scores) - np.min(scores))\n",
    "\n",
    "        feature_df[name] = normalized\n",
    "\n",
    "    # Compute mean importance score across all models\n",
    "    # Here, we can perform a weighted summation of the feature importance scores of the three methods based on the importance of the model.\n",
    "    feature_df['mean_score'] = feature_df.mean(axis=1)\n",
    "    top_feature = feature_df['mean_score'].sort_values(ascending=False)\n",
    "\n",
    "    # Save top features per amino acid\n",
    "    aa_feature[aa] = top_feature.index.to_list()"
   ],
   "id": "29587ab941826bdd",
   "outputs": [],
   "execution_count": 5
  },
  {
   "metadata": {
    "ExecuteTime": {
     "end_time": "2025-04-17T11:07:33.679936Z",
     "start_time": "2025-04-17T11:07:33.664850Z"
    }
   },
   "cell_type": "code",
   "source": [
    "# Check the top features (ASVs) for Amino acid\n",
    "aa_feature['Cys']"
   ],
   "id": "a242799e6269608b",
   "outputs": [
    {
     "data": {
      "text/plain": [
       "['B_ASV_131779',\n",
       " 'B_ASV_142812',\n",
       " 'B_ASV_143173',\n",
       " 'B_ASV_15625',\n",
       " 'B_ASV_38043',\n",
       " 'B_ASV_137520',\n",
       " 'B_ASV_95119',\n",
       " 'B_ASV_35282',\n",
       " 'B_ASV_77896',\n",
       " 'B_ASV_129877',\n",
       " 'B_ASV_125122',\n",
       " 'B_ASV_78240',\n",
       " 'B_ASV_68290',\n",
       " 'B_ASV_19290',\n",
       " 'B_ASV_100340',\n",
       " 'B_ASV_70040',\n",
       " 'B_ASV_59582',\n",
       " 'B_ASV_135906',\n",
       " 'B_ASV_98229',\n",
       " 'B_ASV_83738',\n",
       " 'B_ASV_48893',\n",
       " 'B_ASV_140470',\n",
       " 'B_ASV_102823',\n",
       " 'B_ASV_79875',\n",
       " 'B_ASV_17952']"
      ]
     },
     "execution_count": 6,
     "metadata": {},
     "output_type": "execute_result"
    }
   ],
   "execution_count": 6
  },
  {
   "metadata": {
    "ExecuteTime": {
     "end_time": "2025-04-17T11:07:33.725651Z",
     "start_time": "2025-04-17T11:07:33.680927Z"
    }
   },
   "cell_type": "code",
   "source": [
    "# Count how often each ASV appears in the top 3 for any amino acid\n",
    "count = {}\n",
    "for aa in aa_feature:\n",
    "    for feature in aa_feature[aa][:3]:\n",
    "        if feature not in count:\n",
    "            count[feature] = 1\n",
    "        else:\n",
    "            count[feature] += 1\n",
    "\n",
    "# Sort ASVs by frequency\n",
    "target_asv_count = sorted(count.items(), key=lambda x: x[1], reverse=True)"
   ],
   "id": "ea321b7e893129f",
   "outputs": [],
   "execution_count": 7
  },
  {
   "metadata": {
    "ExecuteTime": {
     "end_time": "2025-04-17T11:07:33.989847Z",
     "start_time": "2025-04-17T11:07:33.726919Z"
    }
   },
   "cell_type": "code",
   "source": [
    "asv_df = pd.DataFrame(target_asv_count, columns=['ASV', 'Count'])\n",
    "sns.set(style=\"whitegrid\")\n",
    "plt.figure(figsize=(10, 6))\n",
    "ax = sns.barplot(\n",
    "    x='ASV', \n",
    "    y='Count', \n",
    "    hue='ASV',\n",
    "    data=asv_df, \n",
    "    palette='deep', \n",
    "    dodge=False,\n",
    "    legend=False\n",
    ")\n",
    "\n",
    "for i, v in enumerate(asv_df['Count']):\n",
    "    ax.text(i, v + 0.1, str(v), ha='center', va='bottom', fontsize=10)\n",
    "\n",
    "plt.title('Top ASV Appearances in Top 3 Features per Amino Acid', fontsize=14)\n",
    "plt.xlabel('ASV', fontsize=12)\n",
    "plt.ylabel('Frequency', fontsize=12)\n",
    "plt.xticks(rotation=45)\n",
    "plt.tight_layout()\n",
    "plt.show()\n",
    "plt.close()"
   ],
   "id": "d0a1e6a3d7577f2b",
   "outputs": [
    {
     "data": {
      "text/plain": [
       "<Figure size 1000x600 with 1 Axes>"
      ],
      "image/png": "[encoded data removed]"
     },
     "metadata": {},
     "output_type": "display_data"
    }
   ],
   "execution_count": 8
  },
  {
   "metadata": {
    "ExecuteTime": {
     "end_time": "2025-04-17T11:07:34.005547Z",
     "start_time": "2025-04-17T11:07:33.990905Z"
    }
   },
   "cell_type": "code",
   "source": [
    "# Upset plot data\n",
    "asv_to_aas = {}\n",
    "for aa, features in aa_feature.items():\n",
    "    for asv in features[:3]:\n",
    "        if asv not in asv_to_aas:\n",
    "            asv_to_aas[asv] = [aa]\n",
    "        else:\n",
    "            asv_to_aas[asv].append(aa)\n",
    "\n",
    "max_len = max(len(v) for v in asv_to_aas.values())\n",
    "asv_df = pd.DataFrame({asv: v + [None]*(max_len - len(v)) for asv, v in asv_to_aas.items()})\n",
    "asv_df.head()"
   ],
   "id": "9a977101f2d5dc6",
   "outputs": [
    {
     "data": {
      "text/plain": [
       "  B_ASV_15625 B_ASV_95119 B_ASV_48893 B_ASV_131779 B_ASV_125122 B_ASV_143173  \\\n",
       "0         Asp         Asp         Asp          Pro          Met          Phe   \n",
       "1         Pro         Pro         Glu          Cys          Gln          Val   \n",
       "2         Met         Met         Trp          Tyr          Asn          Cys   \n",
       "3         Phe         Phe         Arg          Lys         None          His   \n",
       "4         Val         Val        None         None         None          Gly   \n",
       "\n",
       "  B_ASV_142812 B_ASV_137520 B_ASV_140470 B_ASV_83738 B_ASV_38043 B_ASV_77896  \\\n",
       "0          Cys          Gly          Trp         Trp         Arg         Gln   \n",
       "1         None          Ser         None        None        None        None   \n",
       "2         None         None         None        None        None        None   \n",
       "3         None         None         None        None        None        None   \n",
       "4         None         None         None        None        None        None   \n",
       "\n",
       "  B_ASV_19290 B_ASV_78240  \n",
       "0         Gln         Asn  \n",
       "1        None        None  \n",
       "2        None        None  \n",
       "3        None        None  \n",
       "4        None        None  "
      ],
      "text/html": [
       "<div>\n",
       "<style scoped>\n",
       "    .dataframe tbody tr th:only-of-type {\n",
       "        vertical-align: middle;\n",
       "    }\n",
       "\n",
       "    .dataframe tbody tr th {\n",
       "        vertical-align: top;\n",
       "    }\n",
       "\n",
       "    .dataframe thead th {\n",
       "        text-align: right;\n",
       "    }\n",
       "</style>\n",
       "<table border=\"1\" class=\"dataframe\">\n",
       "  <thead>\n",
       "    <tr style=\"text-align: right;\">\n",
       "      <th></th>\n",
       "      <th>B_ASV_15625</th>\n",
       "      <th>B_ASV_95119</th>\n",
       "      <th>B_ASV_48893</th>\n",
       "      <th>B_ASV_131779</th>\n",
       "      <th>B_ASV_125122</th>\n",
       "      <th>B_ASV_143173</th>\n",
       "      <th>B_ASV_142812</th>\n",
       "      <th>B_ASV_137520</th>\n",
       "      <th>B_ASV_140470</th>\n",
       "      <th>B_ASV_83738</th>\n",
       "      <th>B_ASV_38043</th>\n",
       "      <th>B_ASV_77896</th>\n",
       "      <th>B_ASV_19290</th>\n",
       "      <th>B_ASV_78240</th>\n",
       "    </tr>\n",
       "  </thead>\n",
       "  <tbody>\n",
       "    <tr>\n",
       "      <th>0</th>\n",
       "      <td>Asp</td>\n",
       "      <td>Asp</td>\n",
       "      <td>Asp</td>\n",
       "      <td>Pro</td>\n",
       "      <td>Met</td>\n",
       "      <td>Phe</td>\n",
       "      <td>Cys</td>\n",
       "      <td>Gly</td>\n",
       "      <td>Trp</td>\n",
       "      <td>Trp</td>\n",
       "      <td>Arg</td>\n",
       "      <td>Gln</td>\n",
       "      <td>Gln</td>\n",
       "      <td>Asn</td>\n",
       "    </tr>\n",
       "    <tr>\n",
       "      <th>1</th>\n",
       "      <td>Pro</td>\n",
       "      <td>Pro</td>\n",
       "      <td>Glu</td>\n",
       "      <td>Cys</td>\n",
       "      <td>Gln</td>\n",
       "      <td>Val</td>\n",
       "      <td>None</td>\n",
       "      <td>Ser</td>\n",
       "      <td>None</td>\n",
       "      <td>None</td>\n",
       "      <td>None</td>\n",
       "      <td>None</td>\n",
       "      <td>None</td>\n",
       "      <td>None</td>\n",
       "    </tr>\n",
       "    <tr>\n",
       "      <th>2</th>\n",
       "      <td>Met</td>\n",
       "      <td>Met</td>\n",
       "      <td>Trp</td>\n",
       "      <td>Tyr</td>\n",
       "      <td>Asn</td>\n",
       "      <td>Cys</td>\n",
       "      <td>None</td>\n",
       "      <td>None</td>\n",
       "      <td>None</td>\n",
       "      <td>None</td>\n",
       "      <td>None</td>\n",
       "      <td>None</td>\n",
       "      <td>None</td>\n",
       "      <td>None</td>\n",
       "    </tr>\n",
       "    <tr>\n",
       "      <th>3</th>\n",
       "      <td>Phe</td>\n",
       "      <td>Phe</td>\n",
       "      <td>Arg</td>\n",
       "      <td>Lys</td>\n",
       "      <td>None</td>\n",
       "      <td>His</td>\n",
       "      <td>None</td>\n",
       "      <td>None</td>\n",
       "      <td>None</td>\n",
       "      <td>None</td>\n",
       "      <td>None</td>\n",
       "      <td>None</td>\n",
       "      <td>None</td>\n",
       "      <td>None</td>\n",
       "    </tr>\n",
       "    <tr>\n",
       "      <th>4</th>\n",
       "      <td>Val</td>\n",
       "      <td>Val</td>\n",
       "      <td>None</td>\n",
       "      <td>None</td>\n",
       "      <td>None</td>\n",
       "      <td>Gly</td>\n",
       "      <td>None</td>\n",
       "      <td>None</td>\n",
       "      <td>None</td>\n",
       "      <td>None</td>\n",
       "      <td>None</td>\n",
       "      <td>None</td>\n",
       "      <td>None</td>\n",
       "      <td>None</td>\n",
       "    </tr>\n",
       "  </tbody>\n",
       "</table>\n",
       "</div>"
      ]
     },
     "execution_count": 9,
     "metadata": {},
     "output_type": "execute_result"
    }
   ],
   "execution_count": 9
  },
  {
   "metadata": {
    "ExecuteTime": {
     "end_time": "2025-04-17T11:07:34.020504Z",
     "start_time": "2025-04-17T11:07:34.006629Z"
    }
   },
   "cell_type": "code",
   "source": [
    "# Set up ASVs feature number selection models\n",
    "models = {\n",
    "    \"Bagging\": BaggingRegressor(random_state=42),\n",
    "    \"Random Forest\": RandomForestRegressor(random_state=42),\n",
    "    \"Extra Trees\": ExtraTreesRegressor(random_state=42),\n",
    "    \"AdaBoost\": AdaBoostRegressor(random_state=42),\n",
    "    \"XGBoost\": XGBRegressor(random_state=42),\n",
    "}"
   ],
   "id": "eed327007a19e052",
   "outputs": [],
   "execution_count": 10
  },
  {
   "metadata": {
    "ExecuteTime": {
     "end_time": "2025-04-17T11:07:34.719089Z",
     "start_time": "2025-04-17T11:07:34.021691Z"
    }
   },
   "cell_type": "code",
   "source": [
    "# Evaluate model performance using an increasing number of top ASVs\n",
    "target_asv_list = [i[0] for i in target_asv_count]\n",
    "results = []\n",
    "\n",
    "for i in range(2, len(target_asv_list) + 1):\n",
    "    target_asv = target_asv_list[:i]\n",
    "\n",
    "    for name, model in models.items():\n",
    "        for aa in amino_acid.columns:\n",
    "            X = asv.loc[:, asv.columns.isin(target_asv)]\n",
    "            y = amino_acid[aa]\n",
    "            X_shuffled, y_shuffled = shuffle(X, y, random_state=42)\n",
    "\n",
    "            reg = RegressorFramework(model)\n",
    "            r2_score, rmse_score = reg.cross_validate(X_shuffled, y_shuffled)\n",
    "\n",
    "            results.append({\n",
    "                'num_asv': i,\n",
    "                'model': name,\n",
    "                'amino_acid': aa,\n",
    "                'r2': r2_score,\n",
    "                'rmse': rmse_score\n",
    "            })\n",
    "\n",
    "# Save results into a DataFrame\n",
    "results_df = pd.DataFrame(results)\n",
    "results_df.to_csv(\"./data/asv_num_selection_results.csv\", index=False)\n",
    "results_df.head()"
   ],
   "id": "adfc8483fde03047",
   "outputs": [
    {
     "ename": "AttributeError",
     "evalue": "'str' object has no attribute 'loc'",
     "output_type": "error",
     "traceback": [
      "\u001B[1;31m---------------------------------------------------------------------------\u001B[0m",
      "\u001B[1;31mAttributeError\u001B[0m                            Traceback (most recent call last)",
      "Cell \u001B[1;32mIn[11], line 10\u001B[0m\n\u001B[0;32m      8\u001B[0m \u001B[38;5;28;01mfor\u001B[39;00m name, model \u001B[38;5;129;01min\u001B[39;00m models\u001B[38;5;241m.\u001B[39mitems():\n\u001B[0;32m      9\u001B[0m     \u001B[38;5;28;01mfor\u001B[39;00m aa \u001B[38;5;129;01min\u001B[39;00m amino_acid\u001B[38;5;241m.\u001B[39mcolumns:\n\u001B[1;32m---> 10\u001B[0m         X \u001B[38;5;241m=\u001B[39m \u001B[43masv\u001B[49m\u001B[38;5;241;43m.\u001B[39;49m\u001B[43mloc\u001B[49m[:, asv\u001B[38;5;241m.\u001B[39mcolumns\u001B[38;5;241m.\u001B[39misin(target_asv)]\n\u001B[0;32m     11\u001B[0m         y \u001B[38;5;241m=\u001B[39m amino_acid[aa]\n\u001B[0;32m     12\u001B[0m         X_shuffled, y_shuffled \u001B[38;5;241m=\u001B[39m shuffle(X, y, random_state\u001B[38;5;241m=\u001B[39m\u001B[38;5;241m42\u001B[39m)\n",
      "\u001B[1;31mAttributeError\u001B[0m: 'str' object has no attribute 'loc'"
     ]
    }
   ],
   "execution_count": 11
  },
  {
   "metadata": {},
   "cell_type": "code",
   "source": [
    "# Set style for the plots\n",
    "sns.set(style=\"whitegrid\")\n",
    "\n",
    "# Define font properties for publication\n",
    "plt.rcParams.update({\n",
    "    'font.size': 12,  # Set default font size for general text\n",
    "    'axes.labelsize': 12,  # Label size for axes\n",
    "    'xtick.labelsize': 12,  # X-axis tick label size\n",
    "    'ytick.labelsize': 12,  # Y-axis tick label size\n",
    "    'legend.fontsize': 10,  # Legend font size\n",
    "    'figure.figsize': (7, 5),  # Set figure size to be appropriate for publications\n",
    "    'font.family': 'Times New Roman',  # Set font family to Times New Roman\n",
    "    'axes.titlesize': 14,  # Set title font size for axes\n",
    "})\n",
    "\n",
    "# R² boxplot\n",
    "plt.figure(figsize=(10, 5))\n",
    "sns.boxplot(data=results_df, x='num_asv', y='r2', hue='model', showfliers=False)\n",
    "plt.xlabel(\"Number of ASVs\")\n",
    "plt.ylabel(\"R² Score\")\n",
    "plt.title(\"Model Performance (R²) vs Number of ASVs\")\n",
    "plt.legend(title=\"Model\", bbox_to_anchor=(1.05, 1), loc='upper left')\n",
    "plt.tight_layout()\n",
    "\n",
    "# Save the first plot as a separate PDF\n",
    "# plt.savefig(\"model_performance_r2_vs_num_asv.pdf\", format=\"pdf\")\n",
    "plt.show()\n",
    "plt.close()  # Close the figure to avoid overlapping with the next one\n",
    "\n",
    "# RMSE boxplot\n",
    "plt.figure(figsize=(10, 5))\n",
    "sns.boxplot(data=results_df, x='num_asv', y='rmse', hue='model', showfliers=False)\n",
    "plt.xlabel(\"Number of ASVs\")\n",
    "plt.ylabel(\"RMSE\")\n",
    "plt.title(\"Model Performance (RMSE) vs Number of ASVs\")\n",
    "plt.legend(title=\"Model\", bbox_to_anchor=(1.05, 1), loc='upper left')\n",
    "plt.tight_layout()\n",
    "\n",
    "# Save the second plot as a separate PDF\n",
    "# plt.savefig(\"model_performance_rmse_vs_num_asv.pdf\", format=\"pdf\")\n",
    "plt.show()\n",
    "plt.close()  # Close the figure"
   ],
   "id": "98995e52009c7646",
   "outputs": [],
   "execution_count": null
  },
  {
   "metadata": {},
   "cell_type": "code",
   "source": "",
   "id": "5dcb985f6b26e84d",
   "outputs": [],
   "execution_count": null
  }
 ],
 "metadata": {
  "kernelspec": {
   "display_name": "Python 3",
   "language": "python",
   "name": "python3"
  },
  "language_info": {
   "codemirror_mode": {
    "name": "ipython",
    "version": 2
   },
   "file_extension": ".py",
   "mimetype": "text/x-python",
   "name": "python",
   "nbconvert_exporter": "python",
   "pygments_lexer": "ipython2",
   "version": "2.7.6"
  }
 },
 "nbformat": 4,
 "nbformat_minor": 5
}
